{
 "cells": [
  {
   "cell_type": "code",
   "execution_count": 1,
   "metadata": {},
   "outputs": [],
   "source": [
    "import pandas as pd"
   ]
  },
  {
   "cell_type": "code",
   "execution_count": 10,
   "metadata": {},
   "outputs": [],
   "source": [
    "cols= ['Brand','Model','Year','Km','Doors','Seats','TransmissionNr','Fuel','Power','Cylinder Engine','Transmission','AC','Condition','Price']"
   ]
  },
  {
   "cell_type": "code",
   "execution_count": 11,
   "metadata": {},
   "outputs": [
    {
     "name": "stderr",
     "output_type": "stream",
     "text": [
      "b'Skipping line 2621: expected 14 fields, saw 15\\nSkipping line 2894: expected 14 fields, saw 15\\n'\n"
     ]
    }
   ],
   "source": [
    "df= pd.read_csv('df_pf.csv',header=0, names= cols,error_bad_lines=False)"
   ]
  },
  {
   "cell_type": "code",
   "execution_count": 12,
   "metadata": {},
   "outputs": [
    {
     "data": {
      "text/html": [
       "<div>\n",
       "<style scoped>\n",
       "    .dataframe tbody tr th:only-of-type {\n",
       "        vertical-align: middle;\n",
       "    }\n",
       "\n",
       "    .dataframe tbody tr th {\n",
       "        vertical-align: top;\n",
       "    }\n",
       "\n",
       "    .dataframe thead th {\n",
       "        text-align: right;\n",
       "    }\n",
       "</style>\n",
       "<table border=\"1\" class=\"dataframe\">\n",
       "  <thead>\n",
       "    <tr style=\"text-align: right;\">\n",
       "      <th></th>\n",
       "      <th>Brand</th>\n",
       "      <th>Model</th>\n",
       "      <th>Year</th>\n",
       "      <th>Km</th>\n",
       "      <th>Doors</th>\n",
       "      <th>Seats</th>\n",
       "      <th>TransmissionNr</th>\n",
       "      <th>Fuel</th>\n",
       "      <th>Power</th>\n",
       "      <th>Cylinder Engine</th>\n",
       "      <th>Transmission</th>\n",
       "      <th>AC</th>\n",
       "      <th>Condition</th>\n",
       "      <th>Price</th>\n",
       "    </tr>\n",
       "  </thead>\n",
       "  <tbody>\n",
       "    <tr>\n",
       "      <th>0</th>\n",
       "      <td>MINI</td>\n",
       "      <td>Cooper</td>\n",
       "      <td>2011</td>\n",
       "      <td>124600</td>\n",
       "      <td>3</td>\n",
       "      <td>5</td>\n",
       "      <td>5</td>\n",
       "      <td>Diesel</td>\n",
       "      <td>112cv</td>\n",
       "      <td>1600</td>\n",
       "      <td>Manual</td>\n",
       "      <td>ACManual</td>\n",
       "      <td>Usados</td>\n",
       "      <td>11900</td>\n",
       "    </tr>\n",
       "    <tr>\n",
       "      <th>1</th>\n",
       "      <td>Mercedes-Benz</td>\n",
       "      <td>A180Limousine</td>\n",
       "      <td>2015</td>\n",
       "      <td>60000</td>\n",
       "      <td>5</td>\n",
       "      <td>5</td>\n",
       "      <td>6</td>\n",
       "      <td>Diesel</td>\n",
       "      <td>109cv</td>\n",
       "      <td>1461</td>\n",
       "      <td>Manual</td>\n",
       "      <td>ACIndependente</td>\n",
       "      <td>Usados</td>\n",
       "      <td>16990</td>\n",
       "    </tr>\n",
       "    <tr>\n",
       "      <th>2</th>\n",
       "      <td>Opel</td>\n",
       "      <td>Astra</td>\n",
       "      <td>2004</td>\n",
       "      <td>172000</td>\n",
       "      <td>5</td>\n",
       "      <td>5</td>\n",
       "      <td>9</td>\n",
       "      <td>Gasolina</td>\n",
       "      <td>90cv</td>\n",
       "      <td>1364</td>\n",
       "      <td>Manual</td>\n",
       "      <td>ACAutomático</td>\n",
       "      <td>Usados</td>\n",
       "      <td>2400</td>\n",
       "    </tr>\n",
       "    <tr>\n",
       "      <th>3</th>\n",
       "      <td>Opel</td>\n",
       "      <td>AstraSportsTourer</td>\n",
       "      <td>2011</td>\n",
       "      <td>163000</td>\n",
       "      <td>5</td>\n",
       "      <td>5</td>\n",
       "      <td>5</td>\n",
       "      <td>Diesel</td>\n",
       "      <td>125cv</td>\n",
       "      <td>1686</td>\n",
       "      <td>Manual</td>\n",
       "      <td>ACIndependente</td>\n",
       "      <td>Usados</td>\n",
       "      <td>9500</td>\n",
       "    </tr>\n",
       "    <tr>\n",
       "      <th>4</th>\n",
       "      <td>Opel</td>\n",
       "      <td>CrosslandX</td>\n",
       "      <td>2017</td>\n",
       "      <td>29500</td>\n",
       "      <td>5</td>\n",
       "      <td>5</td>\n",
       "      <td>6</td>\n",
       "      <td>Gasolina</td>\n",
       "      <td>81cv</td>\n",
       "      <td>1199</td>\n",
       "      <td>Manual</td>\n",
       "      <td>ACAutomático</td>\n",
       "      <td>Usados</td>\n",
       "      <td>12250</td>\n",
       "    </tr>\n",
       "  </tbody>\n",
       "</table>\n",
       "</div>"
      ],
      "text/plain": [
       "           Brand              Model  Year      Km  Doors  Seats  \\\n",
       "0           MINI             Cooper  2011  124600      3      5   \n",
       "1  Mercedes-Benz      A180Limousine  2015   60000      5      5   \n",
       "2           Opel              Astra  2004  172000      5      5   \n",
       "3           Opel  AstraSportsTourer  2011  163000      5      5   \n",
       "4           Opel         CrosslandX  2017   29500      5      5   \n",
       "\n",
       "   TransmissionNr      Fuel  Power  Cylinder Engine Transmission  \\\n",
       "0               5    Diesel  112cv             1600       Manual   \n",
       "1               6    Diesel  109cv             1461       Manual   \n",
       "2               9  Gasolina   90cv             1364       Manual   \n",
       "3               5    Diesel  125cv             1686       Manual   \n",
       "4               6  Gasolina   81cv             1199       Manual   \n",
       "\n",
       "               AC Condition  Price  \n",
       "0        ACManual    Usados  11900  \n",
       "1  ACIndependente    Usados  16990  \n",
       "2    ACAutomático    Usados   2400  \n",
       "3  ACIndependente    Usados   9500  \n",
       "4    ACAutomático    Usados  12250  "
      ]
     },
     "execution_count": 12,
     "metadata": {},
     "output_type": "execute_result"
    }
   ],
   "source": [
    "df.head()"
   ]
  },
  {
   "cell_type": "code",
   "execution_count": 16,
   "metadata": {},
   "outputs": [],
   "source": [
    "df.to_csv('stand_df.csv',index=False)"
   ]
  },
  {
   "cell_type": "code",
   "execution_count": null,
   "metadata": {},
   "outputs": [],
   "source": []
  }
 ],
 "metadata": {
  "kernelspec": {
   "display_name": "Python 3",
   "language": "python",
   "name": "python3"
  },
  "language_info": {
   "codemirror_mode": {
    "name": "ipython",
    "version": 3
   },
   "file_extension": ".py",
   "mimetype": "text/x-python",
   "name": "python",
   "nbconvert_exporter": "python",
   "pygments_lexer": "ipython3",
   "version": "3.7.6"
  }
 },
 "nbformat": 4,
 "nbformat_minor": 4
}
