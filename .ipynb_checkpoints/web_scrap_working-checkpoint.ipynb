{
 "cells": [
  {
   "cell_type": "code",
   "execution_count": 1,
   "metadata": {},
   "outputs": [],
   "source": [
    "#trying codigo alheio bcuz thats how i roll"
   ]
  },
  {
   "cell_type": "code",
   "execution_count": 2,
   "metadata": {},
   "outputs": [],
   "source": [
    "import time\n",
    "import webbrowser, requests, bs4"
   ]
  },
  {
   "cell_type": "code",
   "execution_count": 32,
   "metadata": {},
   "outputs": [],
   "source": [
    "marca=[]\n",
    "modelo=[]\n",
    "combustivel=[]\n",
    "ano=[]\n",
    "km=[]\n",
    "potencia=[]\n",
    "portas=[]\n",
    "lugares=[]\n",
    "mudancas=[]\n",
    "precos=[]\n",
    "potencia=[]\n",
    "cilindrada=[]\n",
    "caixa=[]\n",
    "ac=[]\n",
    "condition=[]"
   ]
  },
  {
   "cell_type": "code",
   "execution_count": 33,
   "metadata": {},
   "outputs": [],
   "source": [
    "pagina=1\n",
    "while pagina<=500:\n",
    "    destaques=requests.get('https://www.standvirtual.com/carros/?search%5Border%5D=created_at%3Adesc&page='+str(pagina))\n",
    "    anunciosNaoProcessados=bs4.BeautifulSoup(destaques.text,\"html.parser\")\n",
    "    anuncios=anunciosNaoProcessados.findAll('a',\"offer-item__photo-link\")\n",
    "    ficheiro=open('precos.csv','a')\n",
    "    \n",
    "    for i in range(len(anuncios)):\n",
    "        res=requests.get(anuncios[i].get('href'))\n",
    "        res.raise_for_status()\n",
    "        paginasoup=bs4.BeautifulSoup(res.text, \"html.parser\")\n",
    "        pagina2=paginasoup.findAll(\"li\",\"offer-params__item\")\n",
    "        string3=paginasoup.findAll(\"span\",\"offer-price__number\")\n",
    "        for j in range(len(pagina2)):\n",
    "            string=pagina2[j].getText().replace(\" \",\"\")\n",
    "            string2=[line for line in string.split('\\n') if line.strip() !='']\n",
    "            if string2[0]=='Marca':\n",
    "                marca.append(string2[1])\n",
    "            elif string2[0]=='Modelo':\n",
    "                modelo.append(string2[1])\n",
    "            elif string2[0]=='Combustível':\n",
    "                combustivel.append(string2[1])\n",
    "            elif string2[0]=='Quilómetros':\n",
    "                km.append(string2[1].replace('km',''))\n",
    "            elif string2[0]=='Potência':\n",
    "                potencia.append(string2[1])\n",
    "            elif string2[0]=='Nºdeportas':\n",
    "                portas.append(string2[1])\n",
    "            elif string2[0]=='Lotação':\n",
    "                lugares.append(string2[1])\n",
    "            elif string2[0]=='NúmerodeMudanças':\n",
    "                mudancas.append(string2[1])\n",
    "            elif string2[0]=='AnodeRegisto':\n",
    "                ano.append(string2[1])\n",
    "            elif string2[0]=='Potência':\n",
    "                potencia.append(string2[1])\n",
    "            elif string2[0]=='Combustível':\n",
    "                combustivel.append(string2[1])\n",
    "            elif string2[0]=='Cilindrada':\n",
    "                cilindrada.append(string2[1].replace('cm3',''))\n",
    "            elif string2[0]=='TipodeCaixa':\n",
    "                caixa.append(string2[1])\n",
    "            elif string2[0]=='ArCondicionado':\n",
    "                ac.append(string2[1])\n",
    "            elif string2[0]=='Condição':\n",
    "                condition.append(string2[1])\n",
    "        precos.append(string3[0].getText().replace(\" \",\"\").replace('EUR',''))\n",
    "        \n",
    "        \n",
    "        for j in range(min(len(marca),len(modelo),len(ano),len(precos),len(portas),len(lugares),len(mudancas))):\n",
    "            ficheiro.write(str(marca[j])+','+str(modelo[j])+','+str(ano[j])+','+str(km[j])+','+str(portas[j])+','+str(lugares[j])+','+str(mudancas[j])+','+str(combustivel[j])+','+str(potencia[j])+','+str(cilindrada[j])+','+str(caixa[j])+','+str(ac[j])+','+str(condition[j])+','+str(precos[j]))\n",
    "        \n",
    "        #print(\"Página \"+str(pagina)+\" concluída com sucesso\")\n",
    "        #ficheiro.close()\n",
    "        #marca=[]\n",
    "        #modelo=[]\n",
    "        #combustivel=[]\n",
    "        #ano=[]\n",
    "        #km=[]\n",
    "        #potencia=[]\n",
    "        #portas=[]\n",
    "        #lugares=[]\n",
    "        #mudancas=[]\n",
    "        #precos=[]\n",
    "        pagina=pagina+1"
   ]
  },
  {
   "cell_type": "code",
   "execution_count": null,
   "metadata": {},
   "outputs": [],
   "source": []
  },
  {
   "cell_type": "code",
   "execution_count": null,
   "metadata": {},
   "outputs": [],
   "source": []
  }
 ],
 "metadata": {
  "kernelspec": {
   "display_name": "Python 3",
   "language": "python",
   "name": "python3"
  },
  "language_info": {
   "codemirror_mode": {
    "name": "ipython",
    "version": 3
   },
   "file_extension": ".py",
   "mimetype": "text/x-python",
   "name": "python",
   "nbconvert_exporter": "python",
   "pygments_lexer": "ipython3",
   "version": "3.7.6"
  }
 },
 "nbformat": 4,
 "nbformat_minor": 4
}
